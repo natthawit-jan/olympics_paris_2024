{
 "cells": [
  {
   "cell_type": "code",
   "execution_count": null,
   "metadata": {
    "ExecuteTime": {
     "end_time": "2024-08-11T05:54:28.552631Z",
     "start_time": "2024-08-11T05:54:28.497050Z"
    }
   },
   "outputs": [],
   "source": [
    "import pandas as pd\n",
    "import matplotlib.pyplot as plt\n",
    "import seaborn as sns\n",
    "import os\n",
    "\n",
    "import datetime\n",
    "from datetime import datetime\n",
    "from utils import helper as hp\n",
    "from utils.config_util import Config\n",
    "from PIL import ImageFile\n",
    "import ipywidgets as widgets\n",
    "from IPython.display import display\n",
    "from PIL import Image\n",
    "\n",
    "ImageFile.LOAD_TRUNCATED_IMAGES = True"
   ]
  },
  {
   "cell_type": "code",
   "execution_count": null,
   "metadata": {
    "ExecuteTime": {
     "end_time": "2024-08-11T05:54:28.658825Z",
     "start_time": "2024-08-11T05:54:28.553540Z"
    }
   },
   "outputs": [],
   "source": [
    "all_athletes = pd.read_csv('csvs/athlete_athletes_comlete.csv')\n",
    "alternate_atheletes = pd.read_csv('csvs/alternate_athlete_athletes_comlete.csv')\n",
    "na_athlete = pd.read_csv('csvs/na_athlete_athletes_comlete.csv')\n",
    "\n",
    "now = datetime.now()\n",
    "all_athletes['dob'] = pd.to_datetime(all_athletes['dob'])\n",
    "all_athletes['age'] = all_athletes['dob'].apply(lambda x: now.year - x.year - ((now.month, now.day) < (x.month, x.day)))\n",
    "\n",
    "code_2_disciplines = pd.read_csv('csvs/athletes_disciplines_complete.csv')\n",
    "\n",
    "athletes_disciplines = pd.merge(all_athletes, code_2_disciplines, on='code')\n",
    "athletes_disciplines.to_csv('csvs/everything.csv', index=False)"
   ]
  },
  {
   "cell_type": "markdown",
   "metadata": {},
   "source": [
    "## How many athletes are there in the dataset?"
   ]
  },
  {
   "cell_type": "code",
   "execution_count": null,
   "metadata": {
    "ExecuteTime": {
     "end_time": "2024-08-11T05:54:28.663642Z",
     "start_time": "2024-08-11T05:54:28.660221Z"
    }
   },
   "outputs": [],
   "source": [
    "len(all_athletes)"
   ]
  },
  {
   "cell_type": "markdown",
   "metadata": {},
   "source": [
    "## How many men and women are there"
   ]
  },
  {
   "cell_type": "code",
   "execution_count": null,
   "metadata": {
    "ExecuteTime": {
     "end_time": "2024-08-11T05:54:28.725347Z",
     "start_time": "2024-08-11T05:54:28.664640Z"
    }
   },
   "outputs": [],
   "source": [
    "all_athletes.groupby('gender').code.count().plot(kind='pie', autopct='%1.1f%%', startangle=90, shadow=False)\n",
    "plt.legend(all_athletes.groupby('gender').code.count())\n",
    "plt.ylabel('')\n",
    "plt.show()"
   ]
  },
  {
   "cell_type": "markdown",
   "metadata": {},
   "source": [
    "## How many people born in each month"
   ]
  },
  {
   "cell_type": "code",
   "execution_count": null,
   "metadata": {
    "ExecuteTime": {
     "end_time": "2024-08-11T05:54:28.873011Z",
     "start_time": "2024-08-11T05:54:28.726281Z"
    }
   },
   "outputs": [],
   "source": [
    "all_athletes['month'] = all_athletes['dob'].dt.month\n",
    "\n",
    "def month_number_to_month_name(month_num: int) -> str:\n",
    "    months = {1: 'January', 2: 'February', 3: 'March', 4: 'April', 5: 'May', 6: 'June', 7: 'July', 8: 'August', 9: 'September', 10: 'October', 11: 'November', 12: 'December'}\n",
    "    return months[month_num]\n",
    "\n",
    "all_athletes['month'] = all_athletes['month'].apply(month_number_to_month_name)\n",
    "\n",
    "all_athletes.groupby('month').code.count()\n",
    "\n",
    "# bar plot with value counts of athletes born in each month, showing number on top of each bar\n",
    "\n",
    "plt.figure(figsize=(12, 6))\n",
    "sns.barplot(x=all_athletes['month'].value_counts().index, y=all_athletes['month'].value_counts().values)\n",
    "for i in range(len(all_athletes['month'].value_counts().values)):\n",
    "    plt.text(i, all_athletes['month'].value_counts().values[i], all_athletes['month'].value_counts().values[i], ha = 'center')\n",
    "    \n",
    "plt.title('Number of athletes born in each month')\n",
    "plt.ylabel('Number of athletes')\n",
    "plt.xlabel('Month')\n",
    "plt.show()\n"
   ]
  },
  {
   "cell_type": "markdown",
   "metadata": {},
   "source": [
    "# Most Senior and Junior athletes"
   ]
  },
  {
   "cell_type": "code",
   "execution_count": null,
   "metadata": {
    "ExecuteTime": {
     "end_time": "2024-08-11T05:54:29.040816Z",
     "start_time": "2024-08-11T05:54:28.874015Z"
    }
   },
   "outputs": [],
   "source": [
    "senior = all_athletes['dob'].idxmin()\n",
    "junior = all_athletes['dob'].idxmax()\n",
    "needed_columns = ['code', 'given_name', 'family_name', 'noc_full', 'dob', 'age', 'picture_url', 'detail_url']\n",
    "G = pd.concat([all_athletes.loc[senior], all_athletes.loc[junior]], axis=1).T.copy().reset_index(drop=True)\n",
    "G = G[needed_columns]\n",
    "\n",
    "\n",
    "fig, axes = plt.subplots(1, 2, figsize=(5, 5))\n",
    "\n",
    "for i in range(2):\n",
    "    row = G.loc[i]\n",
    "    disciplines = code_2_disciplines[code_2_disciplines['code'] == G.loc[i, 'code']]['discipline_desc'].values\n",
    "    axes[i].axis('off')\n",
    "    axes[i].imshow(hp.fetch_image(row['picture_url'], row['code']))\n",
    "    axes[i].set_title(f\"Name: {row['given_name']} {row['family_name']}\\nAge: {row['age']}\\nCountry: {row['noc_full']}\\n Discipline: {disciplines[0]}\")\n",
    "\n",
    "plt.tight_layout()\n",
    "plt.show()\n"
   ]
  },
  {
   "cell_type": "markdown",
   "metadata": {},
   "source": [
    "## Thai Athletes Overview"
   ]
  },
  {
   "cell_type": "code",
   "execution_count": null,
   "metadata": {
    "ExecuteTime": {
     "end_time": "2024-08-11T05:54:37.757701Z",
     "start_time": "2024-08-11T05:54:29.041592Z"
    }
   },
   "outputs": [],
   "source": [
    "def show_thai():\n",
    "    thai_athletes = all_athletes[all_athletes['noc_full'] == 'Thailand']\n",
    "    len(thai_athletes)\n",
    "    thai_athletes = thai_athletes.sort_values('age')\n",
    "    fig, axes = plt.subplots(5, 11, figsize=(50, 50))\n",
    "\n",
    "    tables = list(thai_athletes[needed_columns].iterrows())\n",
    "    in_ = 0 \n",
    "    for i in range(5):\n",
    "        for j in range(11):\n",
    "            axes[i, j].axis('off')\n",
    "            if in_ < len(tables):\n",
    "                index, profile = tables[in_]\n",
    "                code, given_name, family_name, noc_full, dob, age, picture_url, detail_url = profile\n",
    "                discipline = code_2_disciplines[code_2_disciplines['code'] == code]['discipline_desc'].values[0]\n",
    "                image = hp.fetch_image(picture_url, code)\n",
    "                axes[i, j].imshow(image)\n",
    "                in_ += 1\n",
    "                axes[i, j].set_title(f\"{given_name}\\n{family_name.upper()}\\n({age})\\n{discipline}\\n\\n\", fontsize=30)\n",
    "    plt.tight_layout()\n",
    "    plt.show()\n",
    "# show_thai()"
   ]
  },
  {
   "cell_type": "markdown",
   "metadata": {},
   "source": [
    "## Check medals won by Country"
   ]
  },
  {
   "cell_type": "code",
   "execution_count": null,
   "metadata": {
    "ExecuteTime": {
     "end_time": "2024-08-11T06:07:20.924498Z",
     "start_time": "2024-08-11T06:07:20.905911Z"
    }
   },
   "outputs": [],
   "source": [
    "\n",
    "config = Config('configs/url_config.yaml')\n",
    "URLS_CONFIG = config.config['URLS']\n",
    "\n",
    "def medals_won_by_noc(medal_tables: list, country_code: str) -> tuple:\n",
    "    \n",
    "    \"\"\"\n",
    "    Function to get the medals won by a country\n",
    "    \"\"\"\n",
    "   \n",
    "    try:\n",
    "        medal_tbl_by_cntry = [m for m in medal_tables if m['organisation'] == country_code][0]\n",
    "        disciplines_won_lst = medal_tbl_by_cntry['disciplines']\n",
    "    except Exception as e:\n",
    "        print(f\"Error: {e}\")\n",
    "        print('Make sure the country code is correct ')\n",
    "        raise Exception('Make sure the country code is correct')\n",
    "    return medal_tbl_by_cntry, disciplines_won_lst\n",
    "\n",
    "\n",
    "def rework_the_team_profile(disciplines_won_list):\n",
    "    all_objects = []\n",
    "    for discipline_won in disciplines_won_list:\n",
    "        athlete_won_obj = dict()\n",
    "        discipline_name = discipline_won['name']\n",
    "        athlete_won_obj['n'] = discipline_name\n",
    "        \n",
    "        info_list = [] \n",
    "        for winner in discipline_won['medalWinners']:\n",
    "            info = dict()\n",
    "            info['medalType'] = winner['medalType'].split('_')[1].lower()\n",
    "            info['type'] = 'individual' if winner['competitorType'] == 'A' else 'team'\n",
    "            info['code'] = winner['competitorCode']\n",
    "            info_list.append(info)\n",
    "        athlete_won_obj['winnerInfo'] = info_list\n",
    "        all_objects.append(athlete_won_obj)\n",
    "    return all_objects\n",
    "\n",
    "def expend_team_profile(config, result_obj_list: list):\n",
    "    rt_obj = result_obj_list.copy()\n",
    "    TEAM_PROFILE_URL = config['TEAM_PROFILE_URL']\n",
    "    for i in rt_obj:\n",
    "        i['winnerInfo_WIP'] = []\n",
    "        for each_winner_in_discipline in i['winnerInfo']:\n",
    "            # prepare for teams expansion\n",
    "            \n",
    "            if each_winner_in_discipline['type'] == 'team':\n",
    "                \n",
    "                file_name = f'jsons/team_profile_{each_winner_in_discipline[\"code\"]}.json'\n",
    "                if os.path.exists(file_name) and os.path.getsize(file_name) > 0:\n",
    "                    team_profile = hp.load_json(file_name)\n",
    "                else:\n",
    "                    team_profile = hp.fetch_json(TEAM_PROFILE_URL.format(code=each_winner_in_discipline['code']))\n",
    "                    hp.save_json(team_profile, file_name)\n",
    "                \n",
    "                team_profile_list = team_profile['team']['athletes']\n",
    "            \n",
    "                for athlete in team_profile_list:                        \n",
    "                    info = dict()\n",
    "                    info['code'] = athlete['person']['code']\n",
    "                    \n",
    "                    info['medalType'] = each_winner_in_discipline['medalType']\n",
    "                    info['type'] = 'individual_expanded'\n",
    "                    i['winnerInfo_WIP'].append(info)\n",
    "                    \n",
    "        if i['winnerInfo_WIP']:\n",
    "            individual_list = [obj for obj in i['winnerInfo'] if obj['type'] == 'individual']\n",
    "            i['winnerInfo_WIP'].extend(individual_list)\n",
    "            i['winnerInfo'] = i['winnerInfo_WIP'].copy()\n",
    "            del i['winnerInfo_WIP'] \n",
    "    return rt_obj\n",
    "\n",
    "\n",
    "def make_code_2_winners_obj(expanded_result_object_list: list, athletes_dfs: list):\n",
    "    # convert type of code column to string\n",
    "    combined_athletes = pd.concat(athletes_dfs, ignore_index=True)\n",
    "    combined_athletes['code'] = combined_athletes['code'].astype(str)\n",
    "\n",
    "    code_2_medal = dict()\n",
    "    \n",
    "    for _discipline in expanded_result_object_list:\n",
    "        discipline_name = _discipline['n']\n",
    "        for winner in _discipline['winnerInfo']:\n",
    "            code = winner['code']\n",
    "            if code not in code_2_medal:\n",
    "                code_2_medal[code] = []\n",
    "            code_2_medal[code].append({'discipline': discipline_name, 'medal': winner['medalType']})\n",
    "\n",
    "            try:\n",
    "                athlete = combined_athletes[combined_athletes['code'] == code].iloc[0]\n",
    "            except:\n",
    "                print(f'Ignoring this athlete {code} due to technical issues') \n",
    "                continue\n",
    "            if athlete['mainfunc_desc'] == 'alternate athlete':\n",
    "                code_2_medal[code].append('alternate_flag')\n",
    "    return code_2_medal\n",
    "    \n",
    "def load_medal_images():\n",
    "    medal_size = (50, 50)\n",
    "    medal_images = dict()\n",
    "    for medal in ['gold', 'silver', 'bronze']:\n",
    "        medal_images[medal] = Image.open(f'images/medals/{medal}.png').convert('RGBA').resize(medal_size)\n",
    "    return medal_images\n",
    "\n",
    "def build_medal_presentation_png(code_2_medal_lst, col_num, athletes_dfs):\n",
    "    combined_athletes = pd.concat(athletes_dfs, ignore_index=True)\n",
    "    combined_athletes['code'] = combined_athletes['code'].astype(str)\n",
    "    now = datetime.now()\n",
    "\n",
    "    combined_athletes['dob'] = pd.to_datetime(combined_athletes['dob'], errors='coerce')\n",
    "    combined_athletes['dob'] = combined_athletes['dob'].fillna(pd.to_datetime('1900-01-01'))\n",
    "    \n",
    "\n",
    "    combined_athletes['age'] = combined_athletes['dob'].apply(lambda x: now.year - x.year - ((now.month, now.day) < (x.month, x.day)))\n",
    "    combined_athletes['age'] = combined_athletes['age'].astype(int)\n",
    "    \n",
    "    \n",
    "    needed_columns = ['code', 'given_name', 'family_name', 'noc_full', 'dob', 'age', 'picture_url', 'detail_url']\n",
    "    medal_images = load_medal_images()\n",
    "    num_rows = len(code_2_medal_lst)//col_num + 1\n",
    "    \n",
    "    selected_df = combined_athletes[combined_athletes['code'].isin(code_2_medal_lst.keys())][needed_columns]    \n",
    "    for row in range(num_rows):\n",
    "        df_slice = selected_df.iloc[row*col_num: (row+1)*col_num]\n",
    "        df_slice = df_slice.reset_index(drop=True)\n",
    "        if df_slice.empty:\n",
    "            break\n",
    "        fig, axes = plt.subplots(1, col_num, figsize=(50, 50))\n",
    "        \n",
    "        for index, data in df_slice.iterrows():\n",
    "            code, given_name, family_name, noc_full, dob, age, picture_url, detail_url = data\n",
    "            medals_list = code_2_medal_lst[code] # [{discipline: 'discipline_name', medal: 'medal_type'}]\n",
    "            \n",
    "            alternate_flag = False\n",
    "            if medals_list[-1] == 'alternate_flag':\n",
    "                alternate_flag = True\n",
    "                medals_list.pop()\n",
    "            \n",
    "            image = hp.fetch_image(data['picture_url'], code)\n",
    "            \n",
    "            move_right = 0\n",
    "            move_down = 0\n",
    "            \n",
    "            \n",
    "            disciplines_set = set()\n",
    "            medal_c = 1\n",
    "            for medals_for_this_code in medals_list:\n",
    "                \n",
    "                \n",
    "                # there is no more room for medals in the image, move down and reset move_right\n",
    "                if medal_c > 4:\n",
    "                    print('nore more room')\n",
    "                    move_right = 0\n",
    "                    move_down += 60\n",
    "                \n",
    "                discipline, medal = medals_for_this_code.values()\n",
    "                disciplines_set.add(discipline)\n",
    "                image = hp.add_medal(image, medal_images[medal], (move_right, move_down))\n",
    "                move_right += 60\n",
    "                medal_c += 1\n",
    "                \n",
    "            disciplines = ', '.join(disciplines_set)\n",
    "            axes[index%col_num].axis('off')\n",
    "            axes[index%col_num].imshow(image)\n",
    "            axes[index%col_num].set_title(f\"{given_name}\\n{family_name.upper()}\\n({age})\\n{discipline}\\n{'alternate' if alternate_flag else ''}\", fontsize=30)\n",
    "        \n",
    "        \n",
    "        full_row = index%col_num == col_num -1 \n",
    "        if not full_row:\n",
    "            for i in range(index%col_num+1, col_num):    \n",
    "                fig.delaxes(axes[i])\n",
    "            fig.set_size_inches(50, 50*(index%col_num+1)/col_num)\n",
    "        plt.tight_layout()\n",
    "        plt.show()\n",
    "\n",
    "def countries_won_medals(config):\n",
    "    \n",
    "    MEDALS_URL = config['MEDAL_URL']\n",
    "    medals_json = hp.fetch_json(MEDALS_URL)\n",
    "    hp.save_json(medals_json, 'jsons/medals.json')\n",
    "    medal_tables = medals_json['medalStandings']['medalsTable']\n",
    "    return [m['organisation'] for m in medal_tables], medal_tables\n",
    "\n",
    "\n",
    "def pipeline_make_medal_from_country_code(config, country_choice, medal_tables, athletes_dfs):\n",
    "    _, disciplines_won_list = medals_won_by_noc(medal_tables, country_choice)\n",
    "    result_obj = rework_the_team_profile(disciplines_won_list)\n",
    "    rs_obj = expend_team_profile(config, result_obj)\n",
    "    return make_code_2_winners_obj(rs_obj, athletes_dfs)\n",
    "\n",
    "nocs_df = pd.read_csv('csvs/noc.csv')\n",
    "countries_won, medal_tables = countries_won_medals(URLS_CONFIG)\n",
    "countrycode_countryname = [(nocs_df[nocs_df['noc_code'] == c]['noc_name'].values[0], c) for c in countries_won]\n",
    "countrycode_countryname = sorted(countrycode_countryname, key=lambda x: x[0])\n",
    "Country_Dropdown = widgets.Dropdown(\n",
    "    options=countrycode_countryname,\n",
    "    value='NED',\n",
    "    description='Country:' ,\n",
    "    disabled=False,\n",
    "    \n",
    ")\n",
    "print('Only show countries that won medals')\n",
    "display(Country_Dropdown)\n",
    "\n",
    "\n",
    "\n"
   ]
  },
  {
   "cell_type": "code",
   "execution_count": null,
   "metadata": {},
   "outputs": [],
   "source": [
    "print('Building the presentation')\n",
    "print('Selected country:', Country_Dropdown.value)\n",
    "to_combine_df = [all_athletes, alternate_atheletes, na_athlete]\n",
    "code_2_medal_list = pipeline_make_medal_from_country_code(URLS_CONFIG, Country_Dropdown.value, medal_tables, to_combine_df)\n",
    "build_medal_presentation_png(code_2_medal_list, 10, to_combine_df)"
   ]
  },
  {
   "cell_type": "markdown",
   "metadata": {},
   "source": [
    "## Atheletes who won the highest number of medals"
   ]
  },
  {
   "cell_type": "code",
   "execution_count": null,
   "metadata": {},
   "outputs": [],
   "source": [
    "\n",
    "countries, medal_tables =  countries_won_medals(URLS_CONFIG)"
   ]
  },
  {
   "cell_type": "code",
   "execution_count": null,
   "metadata": {},
   "outputs": [],
   "source": [
    "tally = []\n",
    "for i in medal_tables:\n",
    "    a = i['disciplines']\n",
    "    for j in a:\n",
    "        m = j['medalWinners']\n",
    "        for l in m:\n",
    "            r = dict()\n",
    "            r['medalType'] = l['medalType']\n",
    "            r['competitorCode'] = l['competitorCode']\n",
    "            r['competitorType'] = l['competitorType']\n",
    "            tally.append(r)\n",
    "            "
   ]
  },
  {
   "cell_type": "code",
   "execution_count": null,
   "metadata": {},
   "outputs": [],
   "source": [
    "def get_team_members(config, i) -> list:\n",
    "    l = []\n",
    "    team_id = i['competitorCode']\n",
    "    medalType = i['medalType'] \n",
    "    TEAM_PROFILE_URL = config['TEAM_PROFILE_URL']\n",
    "    file_name = f'jsons/team_profile_{team_id}.json'\n",
    "    if os.path.exists(file_name) and os.path.getsize(file_name) > 0:\n",
    "        team_profile = hp.load_json(file_name)\n",
    "    else:\n",
    "        team_profile = hp.fetch_json(TEAM_PROFILE_URL.format(code=team_id))\n",
    "        hp.save_json(team_profile, file_name)\n",
    "        \n",
    "    team_profile_list = team_profile['team']['athletes']\n",
    "\n",
    "    for member in team_profile_list:\n",
    "        r = dict()\n",
    "        r['competitorCode'] = member['person']['code']\n",
    "        r['competitorType'] = 'A'\n",
    "        r['medalType'] = medalType\n",
    "        l.append(r)\n",
    "    return l\n",
    "    \n",
    "new_tally = []\n",
    "for i in tally:\n",
    "    if i['competitorType'] == 'A':\n",
    "        new_tally.append(i)\n",
    "    else:\n",
    "        \n",
    "        new_tally.extend(get_team_members(URLS_CONFIG, i))\n",
    "        "
   ]
  },
  {
   "cell_type": "markdown",
   "metadata": {},
   "source": []
  },
  {
   "cell_type": "code",
   "execution_count": null,
   "metadata": {},
   "outputs": [],
   "source": [
    "medalist_df = pd.DataFrame(new_tally, columns=[ 'competitorCode', 'medalType'])\n",
    "medalist_df.head()"
   ]
  },
  {
   "cell_type": "code",
   "execution_count": null,
   "metadata": {},
   "outputs": [],
   "source": [
    "f = medalist_df.groupby('competitorCode')['medalType'].count().sort_values(ascending=False)\n",
    "index = int(f.index[0])\n",
    "medal_count = f.values[0]\n",
    "\n"
   ]
  },
  {
   "cell_type": "code",
   "execution_count": null,
   "metadata": {},
   "outputs": [],
   "source": [
    "def search_and_show(code, medal_count=None):\n",
    "    combined_athletes = pd.concat([all_athletes, alternate_atheletes], ignore_index=True)\n",
    "    athlete = combined_athletes[combined_athletes['code'] == code].iloc[0]\n",
    "    \n",
    "    given_name = athlete['given_name']\n",
    "    family_name = athlete['family_name']\n",
    "    age = int(athlete['age'])\n",
    "    noc_full = athlete['noc_full']\n",
    "    profile_url = athlete['detail_url'] \n",
    "    discipline = code_2_disciplines[code_2_disciplines['code'] == code]['discipline_desc'].values[0]\n",
    "\n",
    "    image = hp.fetch_image(athlete['picture_url'], code)\n",
    "    plt.imshow(image)\n",
    "    plt.axis('off')\n",
    "    \n",
    "    if medal_count:\n",
    "    \n",
    "        plt.title(f\"Name: {given_name} {family_name}\\nAge: {age}\\nCountry: {noc_full}\\nDiscipline: {discipline}\\n Medal Count: {medal_count}\")\n",
    "    else:\n",
    "        plt.title(f\"Name: {given_name} {family_name}\\nAge: {age}\\nCountry: {noc_full}\\nDiscipline: {discipline}\")\n",
    "    \n",
    "    "
   ]
  },
  {
   "cell_type": "code",
   "execution_count": null,
   "metadata": {},
   "outputs": [],
   "source": [
    "search_and_show(index, medal_count)"
   ]
  },
  {
   "cell_type": "code",
   "execution_count": null,
   "metadata": {},
   "outputs": [],
   "source": []
  },
  {
   "cell_type": "code",
   "execution_count": null,
   "metadata": {},
   "outputs": [],
   "source": []
  }
 ],
 "metadata": {
  "kernelspec": {
   "display_name": "Olympics",
   "language": "python",
   "name": "python3"
  },
  "language_info": {
   "codemirror_mode": {
    "name": "ipython",
    "version": 3
   },
   "file_extension": ".py",
   "mimetype": "text/x-python",
   "name": "python",
   "nbconvert_exporter": "python",
   "pygments_lexer": "ipython3",
   "version": "3.8.19"
  }
 },
 "nbformat": 4,
 "nbformat_minor": 2
}
