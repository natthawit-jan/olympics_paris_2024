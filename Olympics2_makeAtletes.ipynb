{
 "cells": [
  {
   "cell_type": "code",
   "execution_count": null,
   "id": "fa3e6b43e7115cf4",
   "metadata": {
    "ExecuteTime": {
     "end_time": "2024-08-06T13:33:55.573555Z",
     "start_time": "2024-08-06T13:33:55.529859Z"
    },
    "collapsed": false
   },
   "outputs": [],
   "source": [
    "import requests\n",
    "import json\n",
    "import os\n",
    "import sys\n",
    "import time\n",
    "import pandas as pd\n",
    "import pickle\n",
    "from utils import helper as hp\n",
    "from utils.config_util import Config"
   ]
  },
  {
   "cell_type": "markdown",
   "id": "96cdc342",
   "metadata": {},
   "source": [
    "## URLS"
   ]
  },
  {
   "cell_type": "code",
   "execution_count": null,
   "id": "f7c722ff",
   "metadata": {},
   "outputs": [],
   "source": [
    "c = Config('configs/url_config.yaml')\n",
    "URLS = c.config['URLS']\n",
    "print(URLS)\n"
   ]
  },
  {
   "cell_type": "code",
   "execution_count": null,
   "id": "e73ce9e8",
   "metadata": {
    "ExecuteTime": {
     "end_time": "2024-08-06T13:00:53.596616Z",
     "start_time": "2024-08-06T13:00:53.216472Z"
    }
   },
   "outputs": [],
   "source": [
    "\n",
    "\n",
    "NOCS_json = hp.fetch_json(URLS[\"NOCS_URL\"])\n",
    "NOCS_list = NOCS_json['nocs']\n",
    "noc_df = pd.DataFrame.from_dict(NOCS_list)\n",
    "noc_df = noc_df[['id', 'longName', 'continent']]\n",
    "noc_df.rename(columns={'longName':'noc_name', 'id': 'noc_code'}, inplace=True)\n",
    "noc_df.to_csv('csvs/noc.csv', index=False)\n",
    "\n"
   ]
  },
  {
   "cell_type": "markdown",
   "id": "306c35d0",
   "metadata": {},
   "source": [
    "# Disciplines List"
   ]
  },
  {
   "cell_type": "code",
   "execution_count": null,
   "id": "0c0cd297",
   "metadata": {
    "ExecuteTime": {
     "end_time": "2024-08-06T13:00:53.601451Z",
     "start_time": "2024-08-06T13:00:53.597410Z"
    }
   },
   "outputs": [],
   "source": [
    "discipline_json = hp.fetch_json(URLS[\"DISCIPLINES_URL\"])\n",
    "disciplines = discipline_json['disciplines']\n",
    "disciplines = [{'discipline_code': d['code'], 'discipline': d['description']} for d in disciplines if d['isSport'] ]\n",
    "# save to simple csv file for future use\n",
    "discipline_df = pd.DataFrame(disciplines)\n",
    "discipline_df.to_csv('csvs/all_disciplines.csv', index=False)"
   ]
  },
  {
   "cell_type": "code",
   "execution_count": null,
   "id": "e252211c",
   "metadata": {},
   "outputs": [],
   "source": [
    "_data = hp.fetch_json(URLS[\"PARTICIPANTS_URL\"])\n",
    "hp.save_json(_data, 'jsons/participants.json')\n",
    "if _data:\n",
    "    persons = _data['persons']\n",
    "    file_list = os.listdir('data')\n",
    "    file_list = [i.split('.')[0].strip() for i in file_list]\n",
    "    print(file_list)\n",
    "    cum = 1\n",
    "    with open('error2.txt', 'w') as f:\n",
    "        for i in persons:\n",
    "            if cum % 100 == 0:\n",
    "                print(cum)\n",
    "            code = i['code']\n",
    "            if code not in file_list:\n",
    "                # print(code)\n",
    "                try:\n",
    "                    json_data = hp.fetch_json(f'https://olympics.com/OG2024/data/CIS_Bio_Athlete~comp=OG2024~code={code}~lang=ENG.json')\n",
    "                    if json_data:\n",
    "                        hp.save_json(json_data, f'data/{code}.json')\n",
    "                        cum += 1\n",
    "                except Exception as e:\n",
    "                    f.write(f'{code} {str(e)}\\n ')\n",
    "            \n",
    "    \n",
    "            "
   ]
  },
  {
   "cell_type": "markdown",
   "id": "5319d11b",
   "metadata": {},
   "source": [
    "## Make Atletes Profile"
   ]
  },
  {
   "cell_type": "code",
   "execution_count": null,
   "id": "6790fa02",
   "metadata": {},
   "outputs": [],
   "source": [
    "\n",
    "path_to_json = 'jsons/participants.json'\n",
    "with open(path_to_json, 'r') as file:\n",
    "    _data = json.load(file)\n",
    "persons = _data['persons']\n",
    "file_list = os.listdir('data')\n",
    "file_list = [i.split('.')[0].strip() for i in file_list]\n",
    "print(file_list)\n"
   ]
  },
  {
   "cell_type": "code",
   "execution_count": null,
   "id": "a1d30577",
   "metadata": {},
   "outputs": [],
   "source": [
    "codes = [i['code'] for i in persons]\n",
    "codes = [i for i in codes if i in file_list]\n",
    "l = []\n",
    "code_2_disciplines = []\n",
    "for code in codes:\n",
    "    with open(f'data/{code}.json', 'r') as file:\n",
    "        data = json.load(file)\n",
    "        person_obj = data.get('person', {})\n",
    "        mainfunction = data.get('mainfunction', {})\n",
    "        if person_obj:\n",
    "            mainfunction = person_obj.get('mainFunction', {})\n",
    "            if mainfunction:\n",
    "                mainfunc_desc = mainfunction.get('description', '').lower()\n",
    "                \n",
    "                if 'athlete' in mainfunc_desc:\n",
    "                    \n",
    "                    organisation = person_obj.get('organisation', {})\n",
    "                    noc_code = organisation.get('code', 'NA')\n",
    "                    noc_desc = organisation.get('description', 'NA')\n",
    "                    \n",
    "                    # nationality = person_obj.get('nationality', {})\n",
    "                    # noc = nationality.get('code', 'NA')\n",
    "                    # noc_full = nationality.get('description', 'NA')\n",
    "                    person_gender = person_obj.get('personGender', {}).get('description', 'NA')\n",
    "                    dob = person_obj.get('birthDate', 'NA')\n",
    "                    \n",
    "                    height = person_obj.get('height', 0)\n",
    "                    weight = person_obj.get('weight', 0)\n",
    "                    \n",
    "                    given_name = person_obj.get('givenName', '')\n",
    "                    family_name = person_obj.get('familyName', 'NA')\n",
    "                    d = {}\n",
    "                    d['mainfunc_desc'] = mainfunc_desc\n",
    "                    d['code'] = code\n",
    "                    d['noc'] = noc_code\n",
    "                    d['noc_full'] = noc_desc\n",
    "                    d['gender'] = person_gender\n",
    "                    d['dob'] = dob\n",
    "                    d['height'] = height\n",
    "                    d['weight'] = weight\n",
    "                    d['given_name'] = given_name\n",
    "                    d['family_name'] = family_name\n",
    "                    d['picture_url'] = f\"'https://olympics.com/OG2024/pic/OG2024/00{str(code)[0]}/{str(code)[1:4]}/medium/{code}.png'\"\n",
    "                    \n",
    "                    full_name = f'{given_name} {family_name}'.lower().strip()\n",
    "                    formed_url = '-'.join(full_name.split())\n",
    "                    formed_url = formed_url if given_name else '-' + formed_url\n",
    "                    d['detail_url'] = f\"'https://olympics.com/en/paris-2024/athlete/{formed_url}_{code}/'\"\n",
    "                    d['api_url'] = f\"'https://olympics.com/OG2024/data/CIS_Bio_Athlete~comp=OG2024~code={code}~lang=ENG.json'\"\n",
    "                    if 'disciplines' in person_obj.keys():\n",
    "                        l.append(d)\n",
    "                        code_2_disciplines.extend([{'code': code, 'discipline_code': discipline['code'], 'discipline_desc': discipline['description']} for discipline in person_obj['disciplines']])\n",
    "                \n",
    "print(len(l))\n",
    "print(len(code_2_disciplines))\n",
    "    \n",
    "        "
   ]
  },
  {
   "cell_type": "code",
   "execution_count": null,
   "id": "206fc0d3",
   "metadata": {},
   "outputs": [],
   "source": [
    "athlete_df = pd.DataFrame(l)\n",
    "athletes_disciplines_df = pd.DataFrame(code_2_disciplines)\n",
    "\n",
    "for athlete_type in athlete_df['mainfunc_desc'].unique():\n",
    "    athlete_df[athlete_df['mainfunc_desc'] == athlete_type].to_csv(f'csvs/{\"_\".join(athlete_type.split())}_athletes_comlete.csv', index=False)\n",
    "athletes_disciplines_df.to_csv('csvs/athletes_disciplines_complete.csv', index=False)"
   ]
  },
  {
   "cell_type": "code",
   "execution_count": null,
   "id": "5d5fa7ab",
   "metadata": {},
   "outputs": [],
   "source": [
    "athlete_df"
   ]
  },
  {
   "cell_type": "markdown",
   "id": "5d173bea",
   "metadata": {},
   "source": [
    "## Olympics Events"
   ]
  },
  {
   "cell_type": "code",
   "execution_count": null,
   "id": "090850d4",
   "metadata": {},
   "outputs": [],
   "source": [
    "json_file_path = 'jsons/all_olympic_events.json'\n",
    "reload_override = True\n",
    "\n",
    "\n",
    "hp.initialize(URLS['BASE_API_URL'], reload_override, json_file_path)\n",
    "# for all files I'll read its\n",
    "all_data = []\n",
    "print('reading page', json_file_path)\n",
    "with open(json_file_path, 'r') as file:\n",
    "    json_data = json.load(file)\n",
    "print('json_data is ready!')\n",
    "units = json_data['units']\n",
    "groups = json_data['groups']\n",
    "print('units and groups are ready!')\n",
    "    "
   ]
  },
  {
   "cell_type": "markdown",
   "id": "d1cf45b3",
   "metadata": {},
   "source": [
    "## Build Modals CSVS"
   ]
  },
  {
   "cell_type": "code",
   "execution_count": null,
   "id": "791d6bd8",
   "metadata": {},
   "outputs": [],
   "source": [
    "medals_json = hp.fetch_json(URLS[\"MEDALS_URL\"])\n",
    "hp.save_json(medals_json, 'jsons/medals.json')\n",
    "\n",
    "medal_tables = medals_json['medalStandings']['medalsTable']\n",
    "total_medals = [] \n",
    "_rank = []\n",
    "for each in medal_tables:\n",
    "    organisation = each['organisation']\n",
    "    medals_number_list = each['medalsNumber']\n",
    "    _rank.append(each['rank'])\n",
    "    total_obj = [t for t in medals_number_list if t['type'] == 'Total'][0]\n",
    "    # del total_obj['type']\n",
    "    total_obj['organisation'] = organisation\n",
    "    total_obj['rank'] = each['rank']\n",
    "    total_medals.append(total_obj)\n",
    "    \n",
    "noc_df = pd.read_csv('csvs/noc.csv')\n",
    "print(total_medals)\n",
    "medals_df = pd.DataFrame(total_medals)\n",
    "medals_df.drop(columns=['type'], inplace=True)\n",
    "medals_df['country'] = medals_df['organisation'].apply(lambda x: noc_df[noc_df['noc_code'] == x]['noc_name'].values[0])\n",
    "medals_df.to_csv('csvs/medals.csv', index=False)\n",
    "medals_df\n"
   ]
  }
 ],
 "metadata": {
  "kernelspec": {
   "display_name": "Python 3",
   "language": "python",
   "name": "python3"
  },
  "language_info": {
   "codemirror_mode": {
    "name": "ipython",
    "version": 3
   },
   "file_extension": ".py",
   "mimetype": "text/x-python",
   "name": "python",
   "nbconvert_exporter": "python",
   "pygments_lexer": "ipython3",
   "version": "3.8.19"
  }
 },
 "nbformat": 4,
 "nbformat_minor": 5
}
